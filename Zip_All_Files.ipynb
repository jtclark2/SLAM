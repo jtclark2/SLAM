{
 "cells": [
  {
   "cell_type": "code",
   "execution_count": 1,
   "metadata": {},
   "outputs": [],
   "source": [
    "file_list_name = \"full_file_list.txt\"\n",
    "zip_name = \"ImageCaptioning.zip\" "
   ]
  },
  {
   "cell_type": "code",
   "execution_count": 2,
   "metadata": {},
   "outputs": [
    {
     "name": "stdout",
     "output_type": "stream",
     "text": [
      "Get:1 http://security.ubuntu.com/ubuntu xenial-security InRelease [109 kB]\n",
      "Get:2 http://ppa.launchpad.net/ubuntu-toolchain-r/test/ubuntu xenial InRelease [23.8 kB]\n",
      "Hit:4 http://archive.ubuntu.com/ubuntu xenial InRelease                        \n",
      "Get:5 http://archive.ubuntu.com/ubuntu xenial-updates InRelease [109 kB]\n",
      "Get:6 https://cli-assets.heroku.com/apt ./ InRelease [2,879 B]\n",
      "Hit:7 https://deb.nodesource.com/node_11.x xenial InRelease  \n",
      "Get:8 http://security.ubuntu.com/ubuntu xenial-security/main amd64 Packages [2,051 kB]\n",
      "Get:9 http://archive.ubuntu.com/ubuntu xenial-backports InRelease [107 kB]     \n",
      "Get:10 http://security.ubuntu.com/ubuntu xenial-security/restricted amd64 Packages [15.9 kB]\n",
      "Get:11 http://security.ubuntu.com/ubuntu xenial-security/universe amd64 Packages [984 kB]\n",
      "Get:12 http://security.ubuntu.com/ubuntu xenial-security/multiverse amd64 Packages [8,820 B]\n",
      "Get:3 https://downloads.apache.org/cassandra/debian 311x InRelease [3,903 B]   \n",
      "Get:13 http://ppa.launchpad.net/ubuntu-toolchain-r/test/ubuntu xenial/main amd64 Packages [108 kB]\n",
      "Err:6 https://cli-assets.heroku.com/apt ./ InRelease                           \n",
      "  The following signatures couldn't be verified because the public key is not available: NO_PUBKEY 6DB5542C356545CF\n",
      "Get:14 http://archive.ubuntu.com/ubuntu xenial-updates/main amd64 Packages [2,560 kB]\n",
      "Err:3 https://downloads.apache.org/cassandra/debian 311x InRelease\n",
      "  The following signatures couldn't be verified because the public key is not available: NO_PUBKEY 5E85B9AE0B84C041\n",
      "Get:15 http://archive.ubuntu.com/ubuntu xenial-updates/restricted amd64 Packages [16.4 kB]\n",
      "Get:16 http://archive.ubuntu.com/ubuntu xenial-updates/universe amd64 Packages [1,544 kB]\n",
      "Get:17 http://archive.ubuntu.com/ubuntu xenial-updates/multiverse amd64 Packages [26.2 kB]\n",
      "Get:18 http://archive.ubuntu.com/ubuntu xenial-backports/main amd64 Packages [10.9 kB]\n",
      "Get:19 http://archive.ubuntu.com/ubuntu xenial-backports/universe amd64 Packages [12.7 kB]\n",
      "Fetched 7,693 kB in 3s (2,053 kB/s)                     \n",
      "Reading package lists... Done\n",
      "W: An error occurred during the signature verification. The repository is not updated and the previous index files will be used. GPG error: https://cli-assets.heroku.com/apt ./ InRelease: The following signatures couldn't be verified because the public key is not available: NO_PUBKEY 6DB5542C356545CF\n",
      "W: An error occurred during the signature verification. The repository is not updated and the previous index files will be used. GPG error: https://downloads.apache.org/cassandra/debian 311x InRelease: The following signatures couldn't be verified because the public key is not available: NO_PUBKEY 5E85B9AE0B84C041\n",
      "W: Failed to fetch http://downloads.apache.org/cassandra/debian/dists/311x/InRelease  The following signatures couldn't be verified because the public key is not available: NO_PUBKEY 5E85B9AE0B84C041\n",
      "W: Failed to fetch https://cli-assets.heroku.com/apt/./InRelease  The following signatures couldn't be verified because the public key is not available: NO_PUBKEY 6DB5542C356545CF\n",
      "W: Some index files failed to download. They have been ignored, or old ones used instead.\n",
      "Reading package lists... Done\n",
      "Building dependency tree       \n",
      "Reading state information... Done\n",
      "zip is already the newest version (3.0-11).\n",
      "0 upgraded, 0 newly installed, 0 to remove and 129 not upgraded.\n"
     ]
    }
   ],
   "source": [
    "# Dependencies\n",
    "import copy\n",
    "!apt-get -y update && apt-get install -y zip"
   ]
  },
  {
   "cell_type": "code",
   "execution_count": 3,
   "metadata": {},
   "outputs": [],
   "source": [
    "def find_files_in_dir(file_list_name, rel_path = \"./\"):\n",
    "    file_names = !ls -p $rel_path | grep -v /\n",
    "    filtered_names = []\n",
    "    with open(file_list_name, 'a') as file_list: \n",
    "        for name in file_names:\n",
    "            if len(name) >= 9 and name[-9:] == \"-zh.ipynb\":\n",
    "                continue;\n",
    "            if name == \"Zip_Files.ipynb\":\n",
    "                continue\n",
    "            if name == zip_name:\n",
    "                continue\n",
    "            file_list.write(rel_path + \"/\" + name + \"\\n\")\n",
    "            filtered_names.append(rel_path + \"/\" + name)\n",
    "            \n",
    "    return filtered_names"
   ]
  },
  {
   "cell_type": "code",
   "execution_count": 4,
   "metadata": {},
   "outputs": [],
   "source": [
    "def find_all_files(file_list_name):\n",
    "    \"\"\"\n",
    "    Finds files in current directory and all children.\n",
    "    \"\"\"\n",
    "    with open(file_list_name, 'w') as file_list: \n",
    "        pass\n",
    "    directories = !find . -type d\n",
    "    full_file_list = []\n",
    "    for directory in directories:\n",
    "        full_file_list += find_files_in_dir(file_list_name, directory)\n",
    "    return full_file_list"
   ]
  },
  {
   "cell_type": "code",
   "execution_count": 5,
   "metadata": {},
   "outputs": [],
   "source": [
    "def create_html_files():\n",
    "    print(\"\\nCreating viewable html files for notebooks (NOT recursive)...\\n\")\n",
    "    file_names = find_files_in_dir(file_list_name)\n",
    "    for name in file_names:\n",
    "        if name[-6:] == \".ipynb\":\n",
    "            !jupyter nbconvert \"$name\" # make viewable html copies"
   ]
  },
  {
   "cell_type": "code",
   "execution_count": null,
   "metadata": {},
   "outputs": [
    {
     "name": "stdout",
     "output_type": "stream",
     "text": [
      "\n",
      "Creating viewable html files for notebooks (NOT recursive)...\n",
      "\n",
      "[NbConvertApp] Converting notebook .//1. Robot Moving and Sensing.ipynb to html\n"
     ]
    }
   ],
   "source": [
    "# File Names\n",
    "\n",
    "create_html_files()\n",
    "files = find_all_files(file_list_name)\n",
    "print(files)\n",
    "\n",
    "print(\"\\nZipping...\\n\")\n",
    "!zip $zip_name -r . -i@$file_list_name\n",
    "\n",
    "print(\"\\n*****************Finished!*****************\")"
   ]
  }
 ],
 "metadata": {
  "kernelspec": {
   "display_name": "Python 3",
   "language": "python",
   "name": "python3"
  },
  "language_info": {
   "codemirror_mode": {
    "name": "ipython",
    "version": 3
   },
   "file_extension": ".py",
   "mimetype": "text/x-python",
   "name": "python",
   "nbconvert_exporter": "python",
   "pygments_lexer": "ipython3",
   "version": "3.6.3"
  }
 },
 "nbformat": 4,
 "nbformat_minor": 2
}
